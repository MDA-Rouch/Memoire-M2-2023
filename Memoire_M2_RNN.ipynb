{
 "cells": [
  {
   "cell_type": "code",
   "execution_count": 1,
   "id": "772384ca",
   "metadata": {},
   "outputs": [
    {
     "name": "stderr",
     "output_type": "stream",
     "text": [
      "C:\\Users\\PC\\AppData\\Local\\Temp\\ipykernel_21396\\267029996.py:8: FutureWarning: The pandas.datetime class is deprecated and will be removed from pandas in a future version. Import from datetime module instead.\n",
      "  from pandas import datetime\n"
     ]
    }
   ],
   "source": [
    "import pandas as pd\n",
    "import numpy as np\n",
    "import tensorflow as tf\n",
    "from pandas import DataFrame\n",
    "from pandas import Series\n",
    "from pandas import concat\n",
    "from pandas import read_csv\n",
    "from pandas import datetime\n",
    "from sklearn.metrics import mean_squared_error\n",
    "from sklearn.metrics import mean_absolute_percentage_error\n",
    "from sklearn.preprocessing import MinMaxScaler\n",
    "from sklearn.preprocessing import StandardScaler\n",
    "from keras.models import Sequential\n",
    "from keras.layers import Dense\n",
    "from keras.layers import LSTM\n",
    "from keras.layers import GRU\n",
    "from keras.layers import Dropout\n",
    "from keras.optimizers import SGD\n",
    "from math import sqrt\n",
    "from matplotlib import pyplot\n",
    "import matplotlib.dates as mdates\n",
    "from numpy import array\n",
    "import random"
   ]
  },
  {
   "cell_type": "code",
   "execution_count": 2,
   "id": "48e0fa9c",
   "metadata": {},
   "outputs": [],
   "source": [
    "random.seed(42)"
   ]
  },
  {
   "cell_type": "code",
   "execution_count": 3,
   "id": "fe919d43",
   "metadata": {},
   "outputs": [],
   "source": [
    " # définition d'un parser pour le chargement des jeux de données sous forme de sériex temporellex\n",
    "def parser(x):\n",
    "    return datetime.strptime(x,'%d/%m/%Y')"
   ]
  },
  {
   "cell_type": "code",
   "execution_count": null,
   "id": "5662b6cc",
   "metadata": {},
   "outputs": [],
   "source": [
    "#Chargement des données de ventes\n",
    "top_data = pd.read_csv('data_mois.csv', sep=\";\", parse_dates=[0], index_col=0, squeeze=True, date_parser=parser)\n",
    "lens_data = pd.read_csv('Lens_full.csv', sep=\";\", parse_dates=[0], index_col=0, squeeze=True, date_parser=parser)\n",
    "lens_care_data = pd.read_csv('Lens_care_full.csv', sep=\";\", parse_dates=[0], index_col=0, squeeze=True, date_parser=parser)\n",
    "lens_cus_data = pd.read_csv('Lens_clients.csv', sep=\";\", parse_dates=[0], index_col=0, squeeze=True, date_parser=parser)\n",
    "lenscare_cus_data =  pd.read_csv('Lens_care_clients.csv', sep=\";\", parse_dates=[0], index_col=0, squeeze=True, date_parser=parser)\n",
    "\n",
    "#Chargement des prévisions de l'entreprise \n",
    "plan = pd.read_csv('Plan_full.csv', sep=\";\", parse_dates=[0], index_col=0, squeeze=True, date_parser=parser)\n",
    "lens_plan = pd.read_csv('Plan_lens.csv', sep=\";\", parse_dates=[0], index_col=0, squeeze=True, date_parser=parser)\n",
    "lens_care_plan = pd.read_csv('Plan_LC.csv', sep=\";\", parse_dates=[0], index_col=0, squeeze=True, date_parser=parser)\n",
    "lens_cus_plan = pd.read_csv('Plan_client_lens.csv', sep=\";\", parse_dates=[0], index_col=0, squeeze=True, date_parser=parser)\n",
    "lens_carecus_plan = pd.read_csv('Plan_client_LC.csv', sep=\";\", parse_dates=[0], index_col=0, squeeze=True, date_parser=parser)\n",
    "\n",
    "                            "
   ]
  },
  {
   "cell_type": "code",
   "execution_count": 4,
   "id": "4b24e57d",
   "metadata": {},
   "outputs": [],
   "source": [
    "# Conversion des séries temporelles en problème de machine learning supervisé\n",
    "def series_to_supervised(data, n_in=1, n_out=1, dropnan=True):\n",
    "    n_vars = 1 if type(data) is list else data.shape[1]\n",
    "    df = DataFrame(data)\n",
    "    cols, names = list(), list()\n",
    "    for i in range(n_in, 0, -1):\n",
    "        cols.append(df.shift(i))\n",
    "        names += [('var%d(t-%d)' % (j+1, i)) for j in range(n_vars)]\n",
    "    for i in range(0, n_out):\n",
    "        cols.append(df.shift(-i))\n",
    "        if i == 0:\n",
    "            names += [('var%d(t)' % (j+1)) for j in range(n_vars)]\n",
    "        else:\n",
    "            names += [('var%d(t+%d)' % (j+1, i)) for j in range(n_vars)]\n",
    "    agg = concat(cols, axis=1)\n",
    "    agg.columns = names\n",
    "    if dropnan:\n",
    "        agg.dropna(inplace=True)\n",
    "    return agg\n",
    " \n",
    "# Différenciation des séries temporelles\n",
    "def difference(dataset, interval=1):\n",
    "    diff = list()\n",
    "    for i in range(interval, len(dataset)):\n",
    "        value = dataset[i] - dataset[i - interval]\n",
    "        diff.append(value)\n",
    "    return Series(diff)\n",
    " \n",
    "# Préparation des données\n",
    "def prepare_data(series, n_test, n_lag, n_seq):\n",
    " # extraction des valeurs\n",
    "    raw_values = series.values\n",
    " # stationnarisation\n",
    "    diff_series = difference(raw_values, 1)\n",
    "    diff_values = diff_series.values\n",
    "    diff_values = diff_values.reshape(len(diff_values), 1)\n",
    " # normalisation\n",
    "    scaler = StandardScaler()\n",
    "    scaled_values = scaler.fit_transform(diff_values)  \n",
    "    scaled_values = scaled_values.reshape(len(scaled_values), 1)\n",
    " # mise en forme (problème de machine learning supervisé)\n",
    "    supervised = series_to_supervised(scaled_values, n_lag, n_seq)\n",
    "    supervised_values = supervised.values\n",
    " # division du jeu de données : jeu d'entrainement et jeu de test\n",
    "    train, test = supervised_values[0:-n_test], supervised_values[-n_test:]\n",
    "    return scaler, train, test\n",
    " \n",
    "# Création du réseau de neurones LSTM à 5 couches\n",
    "def fit_lstm(train, n_lag, n_seq, n_batch, nb_epoch, n_neurons, n_neurons_2, n_neurons_3, n_neurons_4):\n",
    " # Mise en forme des données : tableau 3D\n",
    "    X, y = train[:, 0:n_lag], train[:, n_lag:]\n",
    "    X = X.reshape(X.shape[0], 1, X.shape[1])\n",
    " # Structure du réseau\n",
    "    model = Sequential()\n",
    "    model.add(LSTM(n_neurons, return_sequences=True, input_shape= (X.shape[1], 1)))\n",
    "    model.add(Dropout(0.5))\n",
    "    model.add(LSTM(n_neurons_2, return_sequences=True, input_shape= (X.shape[1], 1)))\n",
    "    model.add(Dropout(0.5))\n",
    "    model.add(LSTM(n_neurons_3, return_sequences=False))\n",
    "    model.add(Dropout(0.5))\n",
    "    model.add(Dense(n_neurons_4))\n",
    "    model.add(Dense(y.shape[1]))\n",
    "    model.compile(loss='mean_squared_error', optimizer='adam')\n",
    " # Apprentissage\n",
    "    for i in range(nb_epoch):\n",
    "        model.fit(X, y, epochs=1, batch_size=n_batch, verbose=0, shuffle=False)\n",
    "        model.reset_states()\n",
    "    return model\n",
    " \n",
    "# Prévision \n",
    "def forecast_lstm(model, X, n_batch):\n",
    " # Mise en forme : tableau 3D\n",
    "    X = X.reshape(1, 1, len(X))\n",
    " # Prévision\n",
    "    forecast = model.predict(X, batch_size=n_batch)\n",
    "    return [x for x in forecast[0, :]]\n",
    " \n",
    "# Prévision\n",
    "def make_forecasts(model, n_batch, train, test, n_lag, n_seq):\n",
    "    forecasts = list()\n",
    "    for i in range(len(test)):\n",
    "        X, y = test[i, 0:n_lag], test[i, n_lag:]\n",
    " # Prévision\n",
    "        forecast = forecast_lstm(model, X, n_batch)\n",
    " # Stockage des prévisions\n",
    "        forecasts.append(forecast)\n",
    "    return forecasts\n",
    " \n",
    "# Inversion de la différenciation\n",
    "def inverse_difference(last_ob, forecast):\n",
    "    inverted = list()\n",
    "    inverted.append(forecast[0] + last_ob)\n",
    "    for i in range(1, len(forecast)):\n",
    "        inverted.append(forecast[i] + inverted[i-1])\n",
    "    return inverted\n",
    " \n",
    "# Traitement inverse (pour pouvoir comparer les prévisions avec les données réelles) \n",
    "def inverse_transform(series, forecasts, scaler, n_test):\n",
    "    inverted = list()\n",
    "    for i in range(len(forecasts)):\n",
    "        forecast = array(forecasts[i])\n",
    "        forecast = forecast.reshape(1, len(forecast))\n",
    " # Inversion de la normalisation\n",
    "        inv_scale = scaler.inverse_transform(forecast)\n",
    "        inv_scale = inv_scale[0, :]\n",
    " # Inversion de la differenciation\n",
    "        index = len(series) - n_test + i - 1\n",
    "        last_ob = series.values[index]\n",
    "        inv_diff = inverse_difference(last_ob, inv_scale)\n",
    "        inverted.append(inv_diff)\n",
    "    return inverted\n",
    " \n",
    "# Evaluation des prévisions\n",
    "def evaluate_forecasts(test, forecasts, n_lag, n_seq):\n",
    "    for i in range(n_seq):\n",
    "        actual = [row[i] for row in test]\n",
    "        predicted = [forecast[i] for forecast in forecasts]\n",
    "        mape = mean_absolute_percentage_error(actual, predicted)\n",
    "        mse = mean_squared_error(actual, predicted)\n",
    "        rmse = sqrt(mean_squared_error(actual, predicted))\n",
    "        print('t+%d MSE: %f' % ((i+1), mse))\n",
    "        print('t+%d RMSE: %f' % ((i+1), rmse))\n",
    "        print('t+%d MAPE: %f' % ((i+1), mape))\n",
    "        \n",
    "        \n",
    "# Création d'un dataframe contenant les métriques obtenues à partir des prévisions\n",
    "def get_forecast_metrics(df_metrics, col, test, forecasts, n_lag, n_seq):\n",
    "    for i in range(n_seq):\n",
    "        actual = [row[i] for row in test]\n",
    "        predicted = [forecast[i] for forecast in forecasts]\n",
    "        mape = mean_absolute_percentage_error(actual, predicted)\n",
    "        mse = mean_squared_error(actual, predicted)\n",
    "        rmse = sqrt(mean_squared_error(actual, predicted))\n",
    "        ar = np.array([mape,mse,rmse])\n",
    "        name = col + str(i+1)\n",
    "        df_metrics[name] = ar\n",
    "    return df_metrics\n",
    "\n",
    "#Stockage des prévisions dans un dataframe\n",
    "def get_forecast(df_forecasts, col, forecasts, n_lag, n_seq):\n",
    "    for i in range(n_seq):\n",
    "        predicted = [forecast[i] for forecast in forecasts]\n",
    "        name = col + str(i+1)\n",
    "        df_forecasts[name] = predicted\n",
    "    return df_forecasts\n",
    "\n",
    "# Affichage graphique des ventes réelles et des prévisions\n",
    "def plot_forecasts(series, forecasts, n_test):\n",
    " # Affichage des ventes réelles\n",
    "    pyplot.plot(series.values)\n",
    " # Affichage des prévisions\n",
    "    for i in range(len(forecasts)):\n",
    "        off_s = len(series) - n_test + i - 1\n",
    "        off_e = off_s + len(forecasts[i]) + 1\n",
    "        xaxis = [x for x in range(off_s, off_e)]\n",
    "        yaxis = [series.values[off_s]] + forecasts[i]\n",
    "        pyplot.plot(xaxis, yaxis, color='orange')\n",
    "        \n",
    "    pyplot.ticklabel_format(style='plain', axis='y')\n",
    " # Affichage du graphique\n",
    "    pyplot.show()"
   ]
  },
  {
   "cell_type": "code",
   "execution_count": 5,
   "id": "daaf0d55",
   "metadata": {},
   "outputs": [],
   "source": [
    "def fit_GRU(train, n_lag, n_seq, n_batch, nb_epoch, n_neurons, n_neurons_2, n_neurons_3, n_neurons_4):\n",
    " # Mise en forme : tableau 3D\n",
    "    X, y = train[:, 0:n_lag], train[:, n_lag:]\n",
    "    X = X.reshape(X.shape[0], 1, X.shape[1])\n",
    "    \n",
    "# Structure du réseau GRU\n",
    "    regressorGRU = Sequential()\n",
    "    # Première couche GRU\n",
    "    regressorGRU.add(GRU(units=n_neurons, return_sequences=True, input_shape=(X.shape[1],1), activation='tanh'))\n",
    "    regressorGRU.add(Dropout(0.5))\n",
    "    # Deuxième couche GRU\n",
    "    regressorGRU.add(GRU(units=n_neurons_2, return_sequences=True, input_shape=(X.shape[1],1), activation='tanh'))\n",
    "    regressorGRU.add(Dropout(0.5))\n",
    "    # Troisième couche GRU\n",
    "    regressorGRU.add(GRU(units=n_neurons_3, return_sequences=True, input_shape=(X.shape[1],1), activation='tanh'))\n",
    "    regressorGRU.add(Dropout(0.5))\n",
    "    # Quatrième couche GRU\n",
    "    regressorGRU.add(GRU(units=n_neurons_4, activation='tanh'))\n",
    "    regressorGRU.add(Dropout(0.5))\n",
    "    # Couche de sortie\n",
    "    regressorGRU.add(Dense(units=1))\n",
    "    regressorGRU.compile(optimizer='adam', loss='mean_squared_error')\n",
    " # Entrainement du modèle \n",
    "    for i in range(nb_epoch):\n",
    "        regressorGRU.fit(X, y, epochs=1, batch_size=n_batch)\n",
    "        regressorGRU.reset_states()\n",
    "    return regressorGRU\n",
    " \n",
    "# Prévisions à l'aide d'un GRU\n",
    "def forecast_GRU(model, X, n_batch):\n",
    " # Mise en forme des données\n",
    "    X = X.reshape(1, 1, len(X))\n",
    " # prévisions\n",
    "    forecast = model.predict(X, batch_size=n_batch)\n",
    " # Conversion en array\n",
    "    return [x for x in forecast[0, :]]\n",
    "\n",
    "def make_forecasts_GRU(model, n_batch, train, test, n_lag, n_seq):\n",
    "    forecasts = []\n",
    "    for i in range(len(test)):\n",
    "        X, y = test[i, 0:n_lag], test[i, n_lag:]\n",
    "        \n",
    "        # Faire les prévisions\n",
    "        forecast = []\n",
    "        for j in range(n_seq):\n",
    "            forecast.append(forecast_GRU(model, X, n_batch))\n",
    "            X = np.concatenate((X[1:], forecast[-1]), axis=0)\n",
    "        \n",
    "        # Enregistrer les prévisions\n",
    "        forecasts.append(forecast)\n",
    "    \n",
    "    return forecasts"
   ]
  },
  {
   "cell_type": "code",
   "execution_count": 6,
   "id": "ae4c70f0",
   "metadata": {},
   "outputs": [],
   "source": [
    "def plan_vs_forecast(plan, prevision, actual):\n",
    "    #calcul des métriques d'erreur\n",
    "    mape_p = mean_absolute_percentage_error(plan, actual)\n",
    "    mse_p = mean_squared_error(plan, actual)\n",
    "    rmse_p = sqrt(mean_squared_error(plan, actual))\n",
    "    mape = mean_absolute_percentage_error(prevision, actual)\n",
    "    mse = mean_squared_error(prevision, actual)\n",
    "    rmse = sqrt(mean_squared_error(prevision, actual))\n",
    "\n",
    "    dates = pd.to_datetime(['2023-01-01', '2023-02-01', '2023-03-01'])\n",
    "    #Prévision de l'entreprise\n",
    "    y1 = plan.values              \n",
    "\n",
    "    #Prévision du modèle\n",
    "    y2 = prevision              \n",
    "    \n",
    "    #Valeurs réelles\n",
    "    y3 = actual         \n",
    "\n",
    "# Tracer les courbes\n",
    "    pyplot.plot(dates, y1, label='Plan')\n",
    "    pyplot.plot(dates, y2, label='Forecast')\n",
    "    pyplot.plot(dates, y3, label='Actual')\n",
    "\n",
    "\n",
    "# Ajouter une légende et des titres\n",
    "    pyplot.legend()\n",
    "    pyplot.title('Comparaison de deux courbes')\n",
    "    pyplot.xlabel('Dates')\n",
    "    pyplot.ylabel('Sales')\n",
    "    \n",
    "    ax = pyplot.gca()\n",
    "    ax.xaxis.set_major_locator(mdates.MonthLocator())\n",
    "    ax.xaxis.set_major_formatter(mdates.DateFormatter('%Y-%m'))\n",
    "    \n",
    "    \n",
    "    pyplot.ticklabel_format(style='plain', axis='y')\n",
    "\n",
    "# Afficher le graphique\n",
    "    pyplot.show()\n",
    "#Afficher les métriques    \n",
    "    print('mape plan : ' + str(mape_p))\n",
    "    print('mape forecast : ' + str(mape))\n",
    "    print('mse plan : ' + str(mse_p))\n",
    "    print('mse forecast : ' + str(mse))\n",
    "    print('rmse plan : ' + str(rmse_p))\n",
    "    print('rmse forecast : ' + str(rmse))\n",
    "\n",
    "    #Calcul des métriques moyennes\n",
    "def avg_metrics(plan, previsions, actual):\n",
    "    mape_p = 0\n",
    "    mape = 0\n",
    "    mse_p = 0\n",
    "    mse = 0\n",
    "    rmse_p = 0\n",
    "    rmse = 0\n",
    "    cols = list(actual.columns)\n",
    "    for col in cols:\n",
    "        mape_p = mape_p + mean_absolute_percentage_error(plan[col], actual[col])\n",
    "        mse_p = mse_p + mean_squared_error(plan[col], actual[col])\n",
    "        rmse_p = rmse_p + sqrt(mean_squared_error(plan[col], actual[col]))\n",
    "        mape = mape + mean_absolute_percentage_error(previsions[col], actual[col])\n",
    "        mse = mse + mean_squared_error(previsions[col], actual[col])\n",
    "        rmse = rmse + sqrt(mean_squared_error(previsions[col], actual[col]))\n",
    "\n",
    "    avg_mape_p = mape_p/len(cols)\n",
    "    avg_mape = mape/len(cols)\n",
    "    avg_mse_p = mse_p/len(cols)\n",
    "    avg_mse = mse/len(cols)\n",
    "    avg_rmse_p = rmse_p/len(cols)\n",
    "    avg_rmse = rmse/len(cols)\n",
    "    print('mape moyenne plan : ' + str(avg_mape_p))\n",
    "    print('mape moyenne forecast : ' + str(avg_mape))\n",
    "    print('mse moyenne plan : ' + str(avg_mse_p))\n",
    "    print('mse moyenne forecast : ' + str(avg_mse))\n",
    "    print('rmse moyenne plan : ' + str(avg_rmse_p))\n",
    "    print('rmse moyenne forecast : ' + str(avg_rmse))"
   ]
  },
  {
   "cell_type": "code",
   "execution_count": 7,
   "id": "b6c6412a",
   "metadata": {},
   "outputs": [],
   "source": [
    "#Affichage d'un graphique de comparaison du plan et des prévisions des réseaux de neurones\n",
    "def plan_vs_forecast_2(plan, prevision_LSTM, previson_GRU, actual, titre):\n",
    "    #calcul des métriques d'erreur\n",
    "    mape_p = mean_absolute_percentage_error(plan, actual)\n",
    "    mse_p = mean_squared_error(plan, actual)\n",
    "    rmse_p = sqrt(mean_squared_error(plan, actual))\n",
    "    mape_LSTM = mean_absolute_percentage_error(prevision_LSTM, actual)\n",
    "    mse_LSTM = mean_squared_error(prevision_LSTM, actual)\n",
    "    rmse_LSTM = sqrt(mean_squared_error(prevision_LSTM, actual))\n",
    "    mape_GRU = mean_absolute_percentage_error(previson_GRU, actual)\n",
    "    mse_GRU = mean_squared_error(previson_GRU, actual)\n",
    "    rmse_GRU = sqrt(mean_squared_error(previson_GRU, actual))\n",
    "\n",
    "    dates = pd.to_datetime(['2023-01-01', '2023-02-01', '2023-03-01'])\n",
    "    #Prévision de l'entreprise\n",
    "    y1 = plan.values              \n",
    "\n",
    "    #Prévision du modèle LSTM\n",
    "    y2 = prevision_LSTM              \n",
    "    \n",
    "    #Prévision du modèle GRU\n",
    "    y3 = previson_GRU                \n",
    "    \n",
    "    #Valeurs réelles\n",
    "    y4 = actual         \n",
    "\n",
    "# Tracer les courbes\n",
    "    pyplot.plot(dates, y1, label='Plan')\n",
    "    pyplot.plot(dates, y2, label='Prévisions LSTM')\n",
    "    pyplot.plot(dates, y3, label='Prévisions GRU')\n",
    "    pyplot.plot(dates, y4, label='Ventes réelles')\n",
    "\n",
    "\n",
    "# Ajouter une légende et des titres\n",
    "    pyplot.legend()\n",
    "    pyplot.title(titre)\n",
    "    pyplot.xlabel('Dates')\n",
    "    pyplot.ylabel('Ventes')\n",
    "    \n",
    "    ax = pyplot.gca()\n",
    "    ax.xaxis.set_major_locator(mdates.MonthLocator())\n",
    "    ax.xaxis.set_major_formatter(mdates.DateFormatter('%Y-%m'))\n",
    "    \n",
    "    \n",
    "    pyplot.ticklabel_format(style='plain', axis='y')\n",
    "\n",
    "# Afficher le graphique\n",
    "    pyplot.show()\n",
    "#Afficher les métriques    \n",
    "    print('mape plan : ' + str(mape_p))\n",
    "    print('mape LSTM : ' + str(mape_LSTM))\n",
    "    print('mape GRU : ' + str(mape_GRU))\n",
    "    print('mse plan : ' + str(mse_p))\n",
    "    print('mse LSTM : ' + str(mse_LSTM))\n",
    "    print('mse GRU : ' + str(mse_GRU))    \n",
    "    print('rmse plan : ' + str(rmse_p))\n",
    "    print('rmse LSTM : ' + str(rmse_LSTM))\n",
    "    print('rmse GRU : ' + str(rmse_GRU))    "
   ]
  },
  {
   "cell_type": "markdown",
   "id": "bc13640e",
   "metadata": {},
   "source": [
    "### I. Top data"
   ]
  },
  {
   "cell_type": "markdown",
   "id": "1ef9ec32",
   "metadata": {},
   "source": [
    "#### 1.1 Forecast"
   ]
  },
  {
   "cell_type": "markdown",
   "id": "7236a204",
   "metadata": {},
   "source": [
    "#### 1.1.1 LSTM"
   ]
  },
  {
   "cell_type": "code",
   "execution_count": null,
   "id": "98b84a67",
   "metadata": {},
   "outputs": [],
   "source": [
    "series = top_data"
   ]
  },
  {
   "cell_type": "code",
   "execution_count": null,
   "id": "0088a0f6",
   "metadata": {},
   "outputs": [],
   "source": [
    "# configuration\n",
    "n_lag = 1\n",
    "n_seq = 3\n",
    "n_test = 4\n",
    "n_epochs = 1500\n",
    "n_batch = 10\n",
    "n_neurons = 128\n",
    "n_neurons_2 = 64\n",
    "n_neurons_3 = 64\n",
    "n_neurons_4 = 25\n",
    "df_metrics = pd.DataFrame()\n",
    "# Préparation des données\n",
    "scaler, train, test = prepare_data(series, n_test, n_lag, n_seq)\n",
    "# Entrainement du modèle\n",
    "model = fit_lstm(train, n_lag, n_seq, n_batch, n_epochs, n_neurons, n_neurons_2, n_neurons_3, n_neurons_4)\n",
    "# Prévisions à partir du modèle\n",
    "forecasts = make_forecasts(model, n_batch, train, test, n_lag, n_seq)\n",
    "# Transformation inverse des données\n",
    "forecasts = inverse_transform(series, forecasts, scaler, n_test+2)\n",
    "actual = [row[n_lag:] for row in test]\n",
    "actual = inverse_transform(series, actual, scaler, n_test+2)\n",
    "\n",
    "# évaluation des prévisions\n",
    "evaluate_forecasts(actual, forecasts, n_lag, n_seq)\n",
    "# Affichage des prévisions\n",
    "plot_forecasts(series, forecasts, n_test+2)\n",
    "\n",
    "#Stockage des prévisions pour le premier trimestre 2023\n",
    "lstm_forecasts_t_Q1 = forecasts[2]"
   ]
  },
  {
   "cell_type": "markdown",
   "id": "bdce5885",
   "metadata": {},
   "source": [
    "#### 1.1.2 GRU"
   ]
  },
  {
   "cell_type": "code",
   "execution_count": null,
   "id": "88567bf8",
   "metadata": {},
   "outputs": [],
   "source": [
    "#Configuration\n",
    "n_lag = 1\n",
    "n_seq = 3\n",
    "n_test = 4\n",
    "n_epochs = 1500\n",
    "n_batch = 10\n",
    "n_neurons = 200\n",
    "n_neurons_2 = 200\n",
    "n_neurons_3 = 150\n",
    "n_neurons_4 = 100\n",
    "# Préparation des données\n",
    "scaler, train, test = prepare_data(series, n_test, n_lag, n_seq)\n",
    "# Entrainement du modèle\n",
    "model = fit_GRU(train, n_lag, n_seq, n_batch, n_epochs, n_neurons, n_neurons_2, n_neurons_3, n_neurons_4)\n",
    "# Prévisions à partir du modèle\n",
    "forecasts = make_forecasts_GRU(model, n_batch, train, test, n_lag, n_seq)\n",
    "# Transformation inverse des données\n",
    "forecasts = inverse_transform(series, forecasts, scaler, n_test+2)\n",
    "actual = [row[n_lag:] for row in test]\n",
    "actual = inverse_transform(series, actual, scaler, n_test+2)\n",
    "# évaluation des prévisions\n",
    "evaluate_forecasts(actual, forecasts, n_lag, n_seq)\n",
    "# Affichage des prévisions\n",
    "plot_forecasts(series, forecasts, n_test+2)\n",
    "\n",
    "#Stockage des prévisions pour le premier trimestre 2023\n",
    "GRU_forecasts_t_Q1 = forecasts[0]"
   ]
  },
  {
   "cell_type": "markdown",
   "id": "74a24592",
   "metadata": {},
   "source": [
    "#### 1.2 Comparaison avec le plan "
   ]
  },
  {
   "cell_type": "code",
   "execution_count": null,
   "id": "d6d05bda",
   "metadata": {},
   "outputs": [],
   "source": [
    "plan_t_Q1 = plan[0:3]\n",
    "actual_t_Q1 = actual[2]"
   ]
  },
  {
   "cell_type": "code",
   "execution_count": null,
   "id": "74fadbea",
   "metadata": {},
   "outputs": [],
   "source": [
    "plan_vs_forecast(plan_t_Q1, lstm_forecasts_t_Q1, actual_t_Q1)"
   ]
  },
  {
   "cell_type": "code",
   "execution_count": null,
   "id": "663bac65",
   "metadata": {},
   "outputs": [],
   "source": [
    "plan_vs_forecast(plan_t_Q1, GRU_forecasts_t_Q1, actual_t_Q1)"
   ]
  },
  {
   "cell_type": "code",
   "execution_count": null,
   "id": "52ad880d",
   "metadata": {},
   "outputs": [],
   "source": [
    "plan_vs_forecast_2(plan_t_Q1,lstm_forecasts_t_Q1, GRU_forecasts_t_Q1, actual_t_Q1, \"Prévisions du total des ventes\")"
   ]
  },
  {
   "cell_type": "markdown",
   "id": "1736b8da",
   "metadata": {},
   "source": [
    "## II. Lens / Lens care data"
   ]
  },
  {
   "cell_type": "markdown",
   "id": "9c4ffb5d",
   "metadata": {},
   "source": [
    "### 2.1 Lens"
   ]
  },
  {
   "cell_type": "markdown",
   "id": "aacfd811",
   "metadata": {},
   "source": [
    "#### 2.1.1 Forecasts"
   ]
  },
  {
   "cell_type": "markdown",
   "id": "c7a27305",
   "metadata": {},
   "source": [
    "#### 2.1.1.1 LSTM"
   ]
  },
  {
   "cell_type": "code",
   "execution_count": null,
   "id": "b28bc6f3",
   "metadata": {},
   "outputs": [],
   "source": [
    "series = lens_data"
   ]
  },
  {
   "cell_type": "code",
   "execution_count": null,
   "id": "c2e187fb",
   "metadata": {},
   "outputs": [],
   "source": [
    "# configuration\n",
    "n_lag = 1\n",
    "n_seq = 3\n",
    "n_test = 4\n",
    "n_epochs = 1500\n",
    "n_batch = 10\n",
    "n_neurons = 128\n",
    "n_neurons_2 = 64\n",
    "n_neurons_3 = 64\n",
    "n_neurons_4 = 25\n",
    "# Préparation des données\n",
    "scaler, train, test = prepare_data(series, n_test, n_lag, n_seq)\n",
    "# Entrainement du modèle\n",
    "model = fit_lstm(train, n_lag, n_seq, n_batch, n_epochs, n_neurons, n_neurons_2, n_neurons_3, n_neurons_4)\n",
    "# Prévisions à partir du modèle\n",
    "forecasts = make_forecasts(model, n_batch, train, test, n_lag, n_seq)\n",
    "# Transformation inverse des données\n",
    "forecasts = inverse_transform(series, forecasts, scaler, n_test+2)\n",
    "actual = [row[n_lag:] for row in test]\n",
    "actual = inverse_transform(series, actual, scaler, n_test+2)\n",
    "\n",
    "# évaluation des prévisions\n",
    "evaluate_forecasts(actual, forecasts, n_lag, n_seq)\n",
    "# Affichage des prévisions\n",
    "plot_forecasts(series, forecasts, n_test+2)\n",
    "\n",
    "#Stockage des previsions pour le premier semestre 2023\n",
    "lstm_forecasts_l_Q1 = forecasts[2]"
   ]
  },
  {
   "cell_type": "markdown",
   "id": "18f7c69e",
   "metadata": {},
   "source": [
    "#### 2.1.1.1 GRU"
   ]
  },
  {
   "cell_type": "code",
   "execution_count": null,
   "id": "18e24ae4",
   "metadata": {},
   "outputs": [],
   "source": [
    "#Configuration\n",
    "n_lag = 1\n",
    "n_seq = 3\n",
    "n_test = 4\n",
    "n_epochs = 1500\n",
    "n_batch = 10\n",
    "n_neurons = 200\n",
    "n_neurons_2 = 200\n",
    "n_neurons_3 = 150\n",
    "n_neurons_4 = 100\n",
    "# Préparation des données\n",
    "scaler, train, test = prepare_data(series, n_test, n_lag, n_seq)\n",
    "# fit model\n",
    "model = fit_GRU(train, n_lag, n_seq, n_batch, n_epochs, n_neurons, n_neurons_2, n_neurons_3, n_neurons_4)\n",
    "# make forecasts\n",
    "forecasts = make_forecasts_GRU(model, n_batch, train, test, n_lag, n_seq)\n",
    "# inverse transform forecasts and test\n",
    "forecasts = inverse_transform(series, forecasts, scaler, n_test+2)\n",
    "actual = [row[n_lag:] for row in test]\n",
    "actual = inverse_transform(series, actual, scaler, n_test+2)\n",
    "#Nom du client\n",
    "# evaluate forecasts\n",
    "evaluate_forecasts(actual, forecasts, n_lag, n_seq)\n",
    "# plot forecasts\n",
    "plot_forecasts(series, forecasts, n_test+2)\n",
    "GRU_forecasts_l_Q1 = forecasts[0]"
   ]
  },
  {
   "cell_type": "markdown",
   "id": "624d8dae",
   "metadata": {},
   "source": [
    "#### 2.1.2 Comparaison avec le plan"
   ]
  },
  {
   "cell_type": "code",
   "execution_count": null,
   "id": "880beb79",
   "metadata": {},
   "outputs": [],
   "source": [
    "lens_plan_Q1 = lens_plan[0:3]\n",
    "actual_l_Q1 = actual[2]"
   ]
  },
  {
   "cell_type": "code",
   "execution_count": null,
   "id": "07d575d0",
   "metadata": {},
   "outputs": [],
   "source": [
    "plan_vs_forecast(lens_plan_Q1, lstm_forecasts_l_Q1, actual_l_Q1)"
   ]
  },
  {
   "cell_type": "code",
   "execution_count": null,
   "id": "3932c7a0",
   "metadata": {},
   "outputs": [],
   "source": [
    "plan_vs_forecast(lens_plan_Q1, GRU_forecasts_l_Q1, actual_l_Q1)"
   ]
  },
  {
   "cell_type": "code",
   "execution_count": null,
   "id": "34ef48e7",
   "metadata": {},
   "outputs": [],
   "source": [
    "plan_vs_forecast_2(lens_plan_Q1,lstm_forecasts_l_Q1, GRU_forecasts_l_Q1, actual_l_Q1, \"Prévisions des ventes de lentilles\")"
   ]
  },
  {
   "cell_type": "markdown",
   "id": "99de3acc",
   "metadata": {},
   "source": [
    "### 2.2 Lens care"
   ]
  },
  {
   "cell_type": "markdown",
   "id": "39a70c1d",
   "metadata": {},
   "source": [
    "#### 2.2.1 Forecast"
   ]
  },
  {
   "cell_type": "markdown",
   "id": "4bcf2249",
   "metadata": {},
   "source": [
    "#### 2.2.1.1 LSTM"
   ]
  },
  {
   "cell_type": "code",
   "execution_count": null,
   "id": "de963670",
   "metadata": {},
   "outputs": [],
   "source": [
    "series = lens_care_data"
   ]
  },
  {
   "cell_type": "code",
   "execution_count": null,
   "id": "f0cf0365",
   "metadata": {},
   "outputs": [],
   "source": [
    "# configure\n",
    "n_lag = 1\n",
    "n_seq = 3\n",
    "n_test = 4\n",
    "n_epochs = 1500\n",
    "n_batch = 10\n",
    "n_neurons = 128\n",
    "n_neurons_2 = 64\n",
    "n_neurons_3 = 64\n",
    "n_neurons_4 = 25\n",
    "# Préparation des données\n",
    "scaler, train, test = prepare_data(series, n_test, n_lag, n_seq)\n",
    "# Entrainement du modèle\n",
    "model = fit_lstm(train, n_lag, n_seq, n_batch, n_epochs, n_neurons, n_neurons_2, n_neurons_3, n_neurons_4)\n",
    "# Prévisions à partir du modèle\n",
    "forecasts = make_forecasts(model, n_batch, train, test, n_lag, n_seq)\n",
    "# Transformation inverse des données\n",
    "forecasts = inverse_transform(series, forecasts, scaler, n_test+2)\n",
    "actual = [row[n_lag:] for row in test]\n",
    "actual = inverse_transform(series, actual, scaler, n_test+2)\n",
    "\n",
    "# évaluation des prévisions\n",
    "evaluate_forecasts(actual, forecasts, n_lag, n_seq)\n",
    "# Affichage des prévisions\n",
    "plot_forecasts(series, forecasts, n_test+2)\n",
    "\n",
    "\n",
    "lstm_forecasts_lc_Q1 = forecasts[2]"
   ]
  },
  {
   "cell_type": "markdown",
   "id": "3991178b",
   "metadata": {},
   "source": [
    "#### 2.1.1.1 GRU"
   ]
  },
  {
   "cell_type": "code",
   "execution_count": null,
   "id": "b84ccff6",
   "metadata": {},
   "outputs": [],
   "source": [
    "n_lag = 1\n",
    "n_seq = 3\n",
    "n_test = 4\n",
    "n_epochs = 1500\n",
    "n_batch = 10\n",
    "n_neurons = 200\n",
    "n_neurons_2 = 200\n",
    "n_neurons_3 = 150\n",
    "n_neurons_4 = 100\n",
    "# Préparation des données\n",
    "scaler, train, test = prepare_data(series, n_test, n_lag, n_seq)\n",
    "# Entrainement du modèle\n",
    "model = fit_GRU(train, n_lag, n_seq, n_batch, n_epochs, n_neurons, n_neurons_2, n_neurons_3, n_neurons_4)\n",
    "#  Prévisions à partir du modèle\n",
    "forecasts = make_forecasts_GRU(model, n_batch, train, test, n_lag, n_seq)\n",
    "# Transformation inverse des données\n",
    "forecasts = inverse_transform(series, forecasts, scaler, n_test+2)\n",
    "actual = [row[n_lag:] for row in test]\n",
    "actual = inverse_transform(series, actual, scaler, n_test+2)\n",
    "# évaluation des prévisions\n",
    "evaluate_forecasts(actual, forecasts, n_lag, n_seq)\n",
    "# Affichage des prévisions\n",
    "plot_forecasts(series, forecasts, n_test+2)\n",
    "GRU_forecasts_lc_Q1 = forecasts[2]"
   ]
  },
  {
   "cell_type": "markdown",
   "id": "ad1128f6",
   "metadata": {},
   "source": [
    "#### 2.2.2 Comparaison avec le plan"
   ]
  },
  {
   "cell_type": "code",
   "execution_count": null,
   "id": "09ab4aa8",
   "metadata": {},
   "outputs": [],
   "source": [
    "lens_care_plan_Q1 = lens_care_plan[0:3]\n",
    "actual_lc_Q1 = actual[2]"
   ]
  },
  {
   "cell_type": "code",
   "execution_count": null,
   "id": "15689729",
   "metadata": {},
   "outputs": [],
   "source": [
    "plan_vs_forecast(lens_care_plan_Q1, lstm_forecasts_lc_Q1, actual_lc_Q1)"
   ]
  },
  {
   "cell_type": "code",
   "execution_count": null,
   "id": "e56afbe6",
   "metadata": {},
   "outputs": [],
   "source": [
    "plan_vs_forecast(lens_care_plan_Q1, GRU_forecasts_lc_Q1, actual_lc_Q1)"
   ]
  },
  {
   "cell_type": "code",
   "execution_count": null,
   "id": "5fb39545",
   "metadata": {},
   "outputs": [],
   "source": [
    "plan_vs_forecast_2(lens_care_plan_Q1,lstm_forecasts_lc_Q1, GRU_forecasts_lc_Q1, actual_lc_Q1, \"Prévisions des ventes de lentilles\")"
   ]
  },
  {
   "cell_type": "markdown",
   "id": "2c205f20",
   "metadata": {},
   "source": [
    "## 3. Clients"
   ]
  },
  {
   "cell_type": "markdown",
   "id": "43a72554",
   "metadata": {},
   "source": [
    "### 3.1 Clients Lens"
   ]
  },
  {
   "cell_type": "markdown",
   "id": "67b29b3a",
   "metadata": {},
   "source": [
    "#### 3.1.1 Forecast"
   ]
  },
  {
   "cell_type": "markdown",
   "id": "39f24f26",
   "metadata": {},
   "source": [
    "#### 3.1.1.1 LSTM"
   ]
  },
  {
   "cell_type": "code",
   "execution_count": null,
   "id": "48e14497",
   "metadata": {},
   "outputs": [],
   "source": [
    "data = lens_cus_data"
   ]
  },
  {
   "cell_type": "code",
   "execution_count": null,
   "id": "5fd7b3ce",
   "metadata": {},
   "outputs": [],
   "source": [
    "# configuration\n",
    "n_lag = 1\n",
    "n_seq = 3\n",
    "n_test = 4\n",
    "n_epochs = 500\n",
    "n_batch = 10\n",
    "n_neurons = 128\n",
    "n_neurons_2 = 64\n",
    "n_neurons_3 = 64\n",
    "n_neurons_4 = 25\n",
    "\n",
    "df_metrics = pd.DataFrame()\n",
    "df_forecasts = pd.DataFrame()\n",
    "\n",
    "for col in data:\n",
    "    series = data[col]\n",
    "# Préparation des données\n",
    "    scaler, train, test = prepare_data(series, n_test, n_lag, n_seq)\n",
    "# Entrainement du modèle\n",
    "    model = fit_lstm(train, n_lag, n_seq, n_batch, n_epochs, n_neurons, n_neurons_2, n_neurons_3, n_neurons_4)\n",
    "# Prévisions\n",
    "    forecasts = make_forecasts(model, n_batch, train, test, n_lag, n_seq)\n",
    "# Transformation inverse\n",
    "    forecasts = inverse_transform(series, forecasts, scaler, n_test+2)\n",
    "    actual = [row[n_lag:] for row in test]\n",
    "    actual = inverse_transform(series, actual, scaler, n_test+2)\n",
    "# Affichage du nom de la catégorie de client\n",
    "    print(col)\n",
    "# Evaluation des prévisions\n",
    "    evaluate_forecasts(actual, forecasts, n_lag, n_seq)\n",
    "    df_metrics = get_forecast_metrics(df_metrics,col, actual, forecasts, n_lag, n_seq)\n",
    "    get_forecast(df_forecasts, col, forecasts, n_lag, n_seq)\n",
    "# Affichage des prévisions\n",
    "    plot_forecasts(series, forecasts, n_test+2)\n",
    "#plan vs forecast (Q1)\n",
    "    #print(forecasts)\n",
    "    #actual_Q1 = actual[2]\n",
    "    #plan_Q1 = data_plan[col][0:3]\n",
    "    #forecasts_lstm_Q1 = forecasts[2]\n",
    "    #plan_vs_forecast(plan_Q1, lstm_forecasts_Q1, actual_Q1)"
   ]
  },
  {
   "cell_type": "code",
   "execution_count": null,
   "id": "ab313945",
   "metadata": {},
   "outputs": [],
   "source": [
    "df_metrics"
   ]
  },
  {
   "cell_type": "code",
   "execution_count": null,
   "id": "93227795",
   "metadata": {},
   "outputs": [],
   "source": [
    "df_metrics.to_csv(\"Metrics clients lens.csv\")"
   ]
  },
  {
   "cell_type": "code",
   "execution_count": null,
   "id": "0b136f43",
   "metadata": {},
   "outputs": [],
   "source": [
    "df_forecasts"
   ]
  },
  {
   "cell_type": "code",
   "execution_count": null,
   "id": "fa0e1d2e",
   "metadata": {},
   "outputs": [],
   "source": [
    "df_forecasts_Q1 = df_forecasts[2:3]"
   ]
  },
  {
   "cell_type": "code",
   "execution_count": null,
   "id": "df44b831",
   "metadata": {},
   "outputs": [],
   "source": [
    "clients = list(lens_cus_data.columns)\n",
    "forecast_cus_l_Q1 = pd.DataFrame(columns=clients)\n",
    "forecast_cus_l_Q1"
   ]
  },
  {
   "cell_type": "code",
   "execution_count": null,
   "id": "182a2d22",
   "metadata": {},
   "outputs": [],
   "source": [
    "clients = list(lens_cus_data.columns)\n",
    "forecast_cus_l_Q1 = pd.DataFrame(columns=clients)\n",
    "for client in clients:\n",
    "    x = []\n",
    "    for i in range(1,4):\n",
    "        col_name = client+str(i)\n",
    "        y = df_forecasts_Q1[col_name].iloc[0]\n",
    "        x.append(y)\n",
    "    forecast_cus_l_Q1[client] = x\n",
    "\n",
    "forecast_cus_l_Q1 "
   ]
  },
  {
   "cell_type": "code",
   "execution_count": null,
   "id": "8f20eaf0",
   "metadata": {},
   "outputs": [],
   "source": [
    "forecast_cus_l_Q1[\"\"]=['2023-01-01', '2023-02-01', '2023-03-01']\n",
    "forecast_cus_l_Q1.set_index([\"\"], inplace=True)\n",
    "forecast_cus_l_Q1"
   ]
  },
  {
   "cell_type": "code",
   "execution_count": null,
   "id": "a7d5c88a",
   "metadata": {},
   "outputs": [],
   "source": [
    "lens_cus_data"
   ]
  },
  {
   "cell_type": "code",
   "execution_count": null,
   "id": "ebe67afd",
   "metadata": {},
   "outputs": [],
   "source": [
    "actual_lens_cus_Q1 = lens_cus_data[60:63]\n",
    "actual_lens_cus_Q1"
   ]
  },
  {
   "cell_type": "code",
   "execution_count": null,
   "id": "ac1a32f3",
   "metadata": {},
   "outputs": [],
   "source": [
    "lens_cus_plan_Q1 = lens_cus_plan[0:3]\n",
    "lens_cus_plan_Q1"
   ]
  },
  {
   "cell_type": "markdown",
   "id": "8ba2f32f",
   "metadata": {},
   "source": [
    "#### 3.1.1.2 GRU"
   ]
  },
  {
   "cell_type": "code",
   "execution_count": null,
   "id": "ff788a42",
   "metadata": {},
   "outputs": [],
   "source": [
    "# configuration\n",
    "n_lag = 1\n",
    "n_seq = 3\n",
    "n_test = 4\n",
    "n_epochs = 500\n",
    "n_batch = 10\n",
    "n_neurons = 200\n",
    "n_neurons_2 = 200\n",
    "n_neurons_3 = 150\n",
    "n_neurons_4 = 100\n",
    "\n",
    "df_metrics_l_GRU = pd.DataFrame()\n",
    "df_forecasts_l_GRU = pd.DataFrame()\n",
    "\n",
    "for col in data:\n",
    "    series = data[col]\n",
    "# Préparation des données\n",
    "    scaler, train, test = prepare_data(series, n_test, n_lag, n_seq)\n",
    "# Entrainement du modèle\n",
    "    model = fit_GRU(train, n_lag, n_seq, n_batch, n_epochs, n_neurons, n_neurons_2, n_neurons_3, n_neurons_4)\n",
    "# Prévisions\n",
    "    forecasts = make_forecasts_GRU(model, n_batch, train, test, n_lag, n_seq)\n",
    "# Transformation inverse\n",
    "    forecasts = inverse_transform(series, forecasts, scaler, n_test+2)\n",
    "    actual = [row[n_lag:] for row in test]\n",
    "    actual = inverse_transform(series, actual, scaler, n_test+2)\n",
    "# Affichage du nom du client\n",
    "    print(col)\n",
    "# Evaluation des prévisions\n",
    "    evaluate_forecasts(actual, forecasts, n_lag, n_seq)\n",
    "    df_metrics = get_forecast_metrics(df_metrics_l_GRU,col, actual, forecasts, n_lag, n_seq)\n",
    "    get_forecast(df_forecasts_l_GRU, col, forecasts, n_lag, n_seq)\n",
    "# Affichage des prévisions\n",
    "    plot_forecasts(series, forecasts, n_test+2)\n",
    "#plan vs forecast (Q1)\n",
    "    #print(forecasts)\n",
    "    #actual_Q1 = actual[2]\n",
    "    #plan_Q1 = data_plan[col][0:3]\n",
    "    #forecasts_lstm_Q1 = forecasts[2]\n",
    "    #plan_vs_forecast(plan_Q1, lstm_forecasts_Q1, actual_Q1)"
   ]
  },
  {
   "cell_type": "code",
   "execution_count": null,
   "id": "6e7aa49f",
   "metadata": {},
   "outputs": [],
   "source": [
    "df_metrics_l_GRU"
   ]
  },
  {
   "cell_type": "code",
   "execution_count": null,
   "id": "6a06bc01",
   "metadata": {},
   "outputs": [],
   "source": [
    "df_metrics_l_GRU.to_csv(\"Metrics clients lens GRU.csv\")"
   ]
  },
  {
   "cell_type": "code",
   "execution_count": null,
   "id": "99e01a95",
   "metadata": {},
   "outputs": [],
   "source": [
    "df_forecasts_l_GRU_Q1 = df_forecasts_l_GRU[2:3]"
   ]
  },
  {
   "cell_type": "code",
   "execution_count": null,
   "id": "a6d63505",
   "metadata": {},
   "outputs": [],
   "source": [
    "clients = list(lens_cus_data.columns)\n",
    "forecast_cus_l_GRU_Q1 = pd.DataFrame(columns=clients)\n",
    "for client in clients:\n",
    "    x = []\n",
    "    for i in range(1,4):\n",
    "        col_name = client+str(i)\n",
    "        y = df_forecasts_l_GRU_Q1[col_name].iloc[0]\n",
    "        x.append(y)\n",
    "    forecast_cus_l_GRU_Q1[client] = x\n",
    "\n",
    "forecast_cus_l_GRU_Q1 "
   ]
  },
  {
   "cell_type": "code",
   "execution_count": null,
   "id": "ca6c918a",
   "metadata": {},
   "outputs": [],
   "source": [
    "forecast_cus_l_GRU_Q1[\"\"]=['2023-01-01', '2023-02-01', '2023-03-01']\n",
    "forecast_cus_l_GRU_Q1.set_index([\"\"], inplace=True)\n",
    "forecast_cus_l_GRU_Q1"
   ]
  },
  {
   "cell_type": "code",
   "execution_count": null,
   "id": "fdc4e520",
   "metadata": {},
   "outputs": [],
   "source": [
    "#Comparaison avec plan"
   ]
  },
  {
   "cell_type": "code",
   "execution_count": null,
   "id": "bc8ccea0",
   "metadata": {},
   "outputs": [],
   "source": [
    "for col in list(lens_cus_data.columns):\n",
    "    print(col)\n",
    "    plan_vs_forecast(lens_cus_plan_Q1[col], forecast_cus_l_Q1[col], actual_lens_cus_Q1[col])"
   ]
  },
  {
   "cell_type": "code",
   "execution_count": null,
   "id": "22c27330",
   "metadata": {},
   "outputs": [],
   "source": [
    "for col in list(lens_cus_data.columns):\n",
    "    print(col)\n",
    "    plan_vs_forecast(lens_cus_plan_Q1[col], forecast_cus_l_GRU_Q1[col], actual_lens_cus_Q1[col])"
   ]
  },
  {
   "cell_type": "code",
   "execution_count": null,
   "id": "43a86494",
   "metadata": {},
   "outputs": [],
   "source": [
    "for col in list(lens_cus_data.columns):\n",
    "    print(col)\n",
    "    plan_vs_forecast_2(lens_cus_plan_Q1[col],forecast_cus_l_Q1[col], forecast_cus_l_GRU_Q1[col], actual_lens_cus_Q1[col], \"Prévisions des ventes de lentilles par catégorie de clients\")"
   ]
  },
  {
   "cell_type": "code",
   "execution_count": null,
   "id": "4bae8b1e",
   "metadata": {},
   "outputs": [],
   "source": [
    "avg_metrics(lens_cus_plan_Q1, forecast_cus_l_Q1, actual_lens_cus_Q1)"
   ]
  },
  {
   "cell_type": "code",
   "execution_count": null,
   "id": "8d2239d1",
   "metadata": {},
   "outputs": [],
   "source": [
    "avg_metrics(lens_cus_plan_Q1, forecast_cus_l_GRU_Q1, actual_lens_cus_Q1)"
   ]
  },
  {
   "cell_type": "markdown",
   "id": "c642e66f",
   "metadata": {},
   "source": [
    "### 3.2 Lens care"
   ]
  },
  {
   "cell_type": "markdown",
   "id": "3cd3e3fc",
   "metadata": {},
   "source": [
    "#### 3.2.1 Forecast"
   ]
  },
  {
   "cell_type": "markdown",
   "id": "6ccf3071",
   "metadata": {},
   "source": [
    "#### 3.2.1.1 LSTM"
   ]
  },
  {
   "cell_type": "code",
   "execution_count": null,
   "id": "2bf418b9",
   "metadata": {},
   "outputs": [],
   "source": [
    "data = lenscare_cus_data"
   ]
  },
  {
   "cell_type": "code",
   "execution_count": null,
   "id": "d6552ccf",
   "metadata": {},
   "outputs": [],
   "source": [
    "# configuration\n",
    "n_lag = 1\n",
    "n_seq = 3\n",
    "n_test = 4\n",
    "n_epochs = 500\n",
    "n_batch = 10\n",
    "n_neurons = 128\n",
    "n_neurons_2 = 64\n",
    "n_neurons_3 = 64\n",
    "n_neurons_4 = 25\n",
    "\n",
    "df_metrics_lc_LSTM = pd.DataFrame()\n",
    "df_forecasts_lc_LSTM = pd.DataFrame()\n",
    "\n",
    "for col in data:\n",
    "    series = data[col]\n",
    "# Préparation des données\n",
    "    scaler, train, test = prepare_data(series, n_test, n_lag, n_seq)\n",
    "# Entrainement du modèle\n",
    "    model = fit_lstm(train, n_lag, n_seq, n_batch, n_epochs, n_neurons, n_neurons_2, n_neurons_3, n_neurons_4)\n",
    "# Prévision\n",
    "    forecasts = make_forecasts(model, n_batch, train, test, n_lag, n_seq)\n",
    "# Transformation inverse des prévisions\n",
    "    forecasts = inverse_transform(series, forecasts, scaler, n_test+2)\n",
    "    actual = [row[n_lag:] for row in test]\n",
    "    actual = inverse_transform(series, actual, scaler, n_test+2)\n",
    "# Affichage du nom de la catégorie de client\n",
    "    print(col)\n",
    "# Evaluation des prévisions\n",
    "    evaluate_forecasts(actual, forecasts, n_lag, n_seq)\n",
    "    df_metrics_lc_LSTM = get_forecast_metrics(df_metrics_lc_LSTM, col, actual, forecasts, n_lag, n_seq)\n",
    "    get_forecast(df_forecasts_lc_LSTM, col, forecasts, n_lag, n_seq)\n",
    "# Affichage des prévisions\n",
    "    plot_forecasts(series, forecasts, n_test+2)\n",
    "#plan vs forecast (Q1)\n",
    "    #print(forecasts)\n",
    "    #actual_Q1 = actual[2]\n",
    "    #plan_Q1 = data_plan[col][0:3]\n",
    "    #forecasts_lstm_Q1 = forecasts[2]\n",
    "    #plan_vs_forecast(plan_Q1, lstm_forecasts_Q1, actual_Q1)"
   ]
  },
  {
   "cell_type": "code",
   "execution_count": null,
   "id": "a5cfd9ca",
   "metadata": {},
   "outputs": [],
   "source": [
    "df_metrics_lc_LSTM"
   ]
  },
  {
   "cell_type": "code",
   "execution_count": null,
   "id": "e6938e75",
   "metadata": {},
   "outputs": [],
   "source": [
    "df_metrics_lc_LSTM.to_csv(\"Metrics clients lens care LSTM.csv\")"
   ]
  },
  {
   "cell_type": "code",
   "execution_count": null,
   "id": "1d87691e",
   "metadata": {},
   "outputs": [],
   "source": [
    "df_forecasts_lc_LSTM"
   ]
  },
  {
   "cell_type": "code",
   "execution_count": null,
   "id": "14e3c46e",
   "metadata": {},
   "outputs": [],
   "source": [
    "df_forecasts_lc_LSTM_Q1 = df_forecasts_lc_LSTM[2:3]"
   ]
  },
  {
   "cell_type": "code",
   "execution_count": null,
   "id": "220aa6ba",
   "metadata": {},
   "outputs": [],
   "source": [
    "clients = list(lenscare_cus_data.columns)\n",
    "forecast_cus_lc_Q1_LSTM = pd.DataFrame(columns=clients)\n",
    "for client in clients:\n",
    "    x = []\n",
    "    for i in range(1,4):\n",
    "        col_name = client+str(i)\n",
    "        y = df_forecasts_lc_LSTM[col_name].iloc[0]\n",
    "        x.append(y)\n",
    "    forecast_cus_lc_Q1_LSTM[client] = x\n",
    "\n",
    "forecast_cus_lc_Q1_LSTM "
   ]
  },
  {
   "cell_type": "code",
   "execution_count": null,
   "id": "3da693c6",
   "metadata": {},
   "outputs": [],
   "source": [
    "forecast_cus_lc_Q1_LSTM[\"\"]=['2023-01-01', '2023-02-01', '2023-03-01']\n",
    "forecast_cus_lc_Q1_LSTM.set_index([\"\"], inplace=True)\n",
    "forecast_cus_lc_Q1_LSTM"
   ]
  },
  {
   "cell_type": "code",
   "execution_count": null,
   "id": "22ff2f8f",
   "metadata": {},
   "outputs": [],
   "source": [
    "lenscare_cus_data"
   ]
  },
  {
   "cell_type": "code",
   "execution_count": null,
   "id": "6e4f40e1",
   "metadata": {},
   "outputs": [],
   "source": [
    "lenscare_cus_data"
   ]
  },
  {
   "cell_type": "code",
   "execution_count": null,
   "id": "4418edb3",
   "metadata": {},
   "outputs": [],
   "source": [
    "actual_lenscare_cus_Q1 = lenscare_cus_data[60:63]\n",
    "actual_lenscare_cus_Q1"
   ]
  },
  {
   "cell_type": "code",
   "execution_count": null,
   "id": "be4f3fb4",
   "metadata": {},
   "outputs": [],
   "source": [
    "lens_carecus_plan_Q1 = lens_carecus_plan[0:3]\n",
    "lens_carecus_plan_Q1"
   ]
  },
  {
   "cell_type": "code",
   "execution_count": null,
   "id": "7848f931",
   "metadata": {},
   "outputs": [],
   "source": [
    "# configuration\n",
    "n_lag = 1\n",
    "n_seq = 3\n",
    "n_test = 4\n",
    "n_epochs = 500\n",
    "n_batch = 10\n",
    "n_neurons = 200\n",
    "n_neurons_2 = 200\n",
    "n_neurons_3 = 150\n",
    "n_neurons_4 = 100\n",
    "\n",
    "df_metrics_lc_GRU = pd.DataFrame()\n",
    "df_forecasts_lc_GRU = pd.DataFrame()\n",
    "\n",
    "for col in data:\n",
    "    series = data[col]\n",
    "# Préparation des données\n",
    "    scaler, train, test = prepare_data(series, n_test, n_lag, n_seq)\n",
    "# Entrainement du modèle\n",
    "    model = fit_GRU(train, n_lag, n_seq, n_batch, n_epochs, n_neurons, n_neurons_2, n_neurons_3, n_neurons_4)\n",
    "# Prévision\n",
    "    forecasts = make_forecasts_GRU(model, n_batch, train, test, n_lag, n_seq)\n",
    "# Transformation inverse\n",
    "    forecasts = inverse_transform(series, forecasts, scaler, n_test+2)\n",
    "    actual = [row[n_lag:] for row in test]\n",
    "    actual = inverse_transform(series, actual, scaler, n_test+2)\n",
    "# Affichage du nom de la catégorie de client\n",
    "    print(col)\n",
    "# Evaluation des prévisions\n",
    "    evaluate_forecasts(actual, forecasts, n_lag, n_seq)\n",
    "    df_metrics_lc_GRU = get_forecast_metrics(df_metrics_lc_GRU,col, actual, forecasts, n_lag, n_seq)\n",
    "    get_forecast(df_forecasts_lc_GRU, col, forecasts, n_lag, n_seq)\n",
    "# Affichage des prévisions\n",
    "    plot_forecasts(series, forecasts, n_test+2)\n",
    "#plan vs forecast (Q1)\n",
    "    #print(forecasts)\n",
    "    #actual_Q1 = actual[2]\n",
    "    #plan_Q1 = data_plan[col][0:3]\n",
    "    #forecasts_lstm_Q1 = forecasts[2]\n",
    "    #plan_vs_forecast(plan_Q1, lstm_forecasts_Q1, actual_Q1)"
   ]
  },
  {
   "cell_type": "code",
   "execution_count": null,
   "id": "c09ad259",
   "metadata": {},
   "outputs": [],
   "source": [
    "df_metrics_lc_GRU"
   ]
  },
  {
   "cell_type": "code",
   "execution_count": null,
   "id": "ba45b3d5",
   "metadata": {},
   "outputs": [],
   "source": [
    "df_metrics_lc_GRU.to_csv(\"Metrics clients lens care GRU.csv\")"
   ]
  },
  {
   "cell_type": "code",
   "execution_count": null,
   "id": "e1c358ed",
   "metadata": {},
   "outputs": [],
   "source": [
    "df_forecasts_lc_GRU_Q1 = df_forecasts_lc_GRU[2:3]"
   ]
  },
  {
   "cell_type": "code",
   "execution_count": null,
   "id": "3e4a9479",
   "metadata": {},
   "outputs": [],
   "source": [
    "clients = list(lenscare_cus_data.columns)\n",
    "forecast_cus_lc_GRU_Q1 = pd.DataFrame(columns=clients)\n",
    "for client in clients:\n",
    "    x = []\n",
    "    for i in range(1,4):\n",
    "        col_name = client+str(i)\n",
    "        y = df_forecasts_lc_GRU_Q1[col_name].iloc[0]\n",
    "        x.append(y)\n",
    "    forecast_cus_lc_GRU_Q1[client] = x\n",
    "\n",
    "forecast_cus_lc_GRU_Q1 "
   ]
  },
  {
   "cell_type": "code",
   "execution_count": null,
   "id": "b7f49c66",
   "metadata": {},
   "outputs": [],
   "source": [
    "forecast_cus_lc_GRU_Q1[\"\"]=['2023-01-01', '2023-02-01', '2023-03-01']\n",
    "forecast_cus_lc_GRU_Q1.set_index([\"\"], inplace=True)\n",
    "forecast_cus_lc_GRU_Q1"
   ]
  },
  {
   "cell_type": "code",
   "execution_count": null,
   "id": "2c8d6e02",
   "metadata": {},
   "outputs": [],
   "source": [
    "# Comparaison avec le plan"
   ]
  },
  {
   "cell_type": "code",
   "execution_count": null,
   "id": "66306536",
   "metadata": {},
   "outputs": [],
   "source": [
    "for col in list(lenscare_cus_data.columns):\n",
    "    print(col)\n",
    "    plan_vs_forecast(lens_carecus_plan_Q1[col], forecast_cus_lc_Q1_LSTM[col], actual_lenscare_cus_Q1[col])"
   ]
  },
  {
   "cell_type": "code",
   "execution_count": null,
   "id": "08c9eeae",
   "metadata": {},
   "outputs": [],
   "source": [
    "for col in list(lenscare_cus_data.columns):\n",
    "    print(col)\n",
    "    plan_vs_forecast(lens_carecus_plan_Q1[col], forecast_cus_lc_GRU_Q1[col], actual_lenscare_cus_Q1[col])"
   ]
  },
  {
   "cell_type": "code",
   "execution_count": null,
   "id": "48f31a6f",
   "metadata": {},
   "outputs": [],
   "source": [
    "for col in list(lenscare_cus_data.columns):\n",
    "    print(col)\n",
    "    plan_vs_forecast_2(lens_carecus_plan_Q1[col],forecast_cus_lc_Q1_LSTM[col], forecast_cus_lc_GRU_Q1[col], actual_lenscare_cus_Q1[col], \"Prévisions des ventes de lentilles par catégorie de clients\")"
   ]
  },
  {
   "cell_type": "code",
   "execution_count": null,
   "id": "f170d41b",
   "metadata": {},
   "outputs": [],
   "source": [
    "forecast_cus_lc_Q1_LSTM"
   ]
  },
  {
   "cell_type": "code",
   "execution_count": null,
   "id": "105cb19e",
   "metadata": {},
   "outputs": [],
   "source": [
    "forecast_cus_lc_GRU_Q1"
   ]
  },
  {
   "cell_type": "code",
   "execution_count": null,
   "id": "3bb07d7b",
   "metadata": {},
   "outputs": [],
   "source": [
    "avg_metrics(lens_carecus_plan_Q1, forecast_cus_lc_Q1_LSTM, actual_lenscare_cus_Q1)"
   ]
  },
  {
   "cell_type": "code",
   "execution_count": null,
   "id": "cde8084d",
   "metadata": {},
   "outputs": [],
   "source": [
    "avg_metrics(lens_carecus_plan_Q1, forecast_cus_lc_GRU_Q1, actual_lenscare_cus_Q1)"
   ]
  },
  {
   "cell_type": "code",
   "execution_count": null,
   "id": "af0f4b5a",
   "metadata": {},
   "outputs": [],
   "source": [
    "#Bottom up "
   ]
  },
  {
   "cell_type": "code",
   "execution_count": null,
   "id": "3a5f8151",
   "metadata": {},
   "outputs": [],
   "source": [
    "l_LSTM = forecast_cus_l_Q1.sum(axis=1)\n",
    "l_GRU = forecast_cus_l_GRU_Q1.sum(axis=1)\n",
    "lc_LSTM = forecast_cus_lc_Q1_LSTM.sum(axis=1)\n",
    "lc_GRU = forecast_cus_lc_GRU_Q1.sum(axis=1)"
   ]
  },
  {
   "cell_type": "code",
   "execution_count": null,
   "id": "acc242cc",
   "metadata": {},
   "outputs": [],
   "source": [
    "t_LSTM = l_LSTM + lc_LSTM\n",
    "t_GRU = l_GRU + lc_GRU"
   ]
  },
  {
   "cell_type": "code",
   "execution_count": null,
   "id": "65f2c702",
   "metadata": {},
   "outputs": [],
   "source": [
    "print(l_LSTM)\n",
    "print(l_GRU)\n",
    "print(lc_LSTM)\n",
    "print(lc_GRU)"
   ]
  },
  {
   "cell_type": "code",
   "execution_count": null,
   "id": "fe2830f9",
   "metadata": {},
   "outputs": [],
   "source": [
    "#Comparaison avec le plan après bottom up"
   ]
  },
  {
   "cell_type": "code",
   "execution_count": null,
   "id": "e892bfec",
   "metadata": {},
   "outputs": [],
   "source": [
    "plan_vs_forecast_2(lens_care_plan_Q1,lc_LSTM, lc_GRU, actual_lc_Q1, \"Prévisions des ventes de lentilles\")"
   ]
  },
  {
   "cell_type": "code",
   "execution_count": null,
   "id": "734e703a",
   "metadata": {},
   "outputs": [],
   "source": [
    "plan_vs_forecast_2(lens_plan_Q1,l_LSTM, l_GRU, actual_l_Q1, \"Prévisions des ventes de lentilles\")"
   ]
  },
  {
   "cell_type": "code",
   "execution_count": null,
   "id": "68060e82",
   "metadata": {},
   "outputs": [],
   "source": [
    "plan_vs_forecast_2(plan_t_Q1,t_LSTM, t_GRU, actual_t_Q1, \"Prévisions du total des ventes\")"
   ]
  }
 ],
 "metadata": {
  "kernelspec": {
   "display_name": "Python 3 (ipykernel)",
   "language": "python",
   "name": "python3"
  },
  "language_info": {
   "codemirror_mode": {
    "name": "ipython",
    "version": 3
   },
   "file_extension": ".py",
   "mimetype": "text/x-python",
   "name": "python",
   "nbconvert_exporter": "python",
   "pygments_lexer": "ipython3",
   "version": "3.9.13"
  }
 },
 "nbformat": 4,
 "nbformat_minor": 5
}
